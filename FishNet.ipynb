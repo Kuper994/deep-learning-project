{
  "nbformat": 4,
  "nbformat_minor": 0,
  "metadata": {
    "colab": {
      "provenance": [],
      "collapsed_sections": [],
      "machine_shape": "hm"
    },
    "kernelspec": {
      "name": "python3",
      "display_name": "Python 3"
    },
    "language_info": {
      "name": "python"
    },
    "accelerator": "GPU"
  },
  "cells": [
    {
      "cell_type": "code",
      "source": [
        "!pip install sk-video"
      ],
      "metadata": {
        "id": "pXJDDTOoHqmq"
      },
      "execution_count": null,
      "outputs": []
    },
    {
      "cell_type": "code",
      "source": [
        "import os\n",
        "from google.colab import drive\n",
        "import sys\n",
        "\n",
        "drive.mount('/content/drive')\n",
        "os.chdir('/content/drive/MyDrive/Final Project')\n",
        "\n",
        "!rm -rf fishnet\n",
        "!git clone https://github.com/Kuper994/deep-learning-project\n",
        "!mv deep-learning-project fishnet\n",
        "\n",
        "sys.path.insert(0,'/content/drive/MyDrive/Final Project/fishnet')"
      ],
      "metadata": {
        "id": "-AEz_eHGsvaU"
      },
      "execution_count": null,
      "outputs": []
    },
    {
      "cell_type": "code",
      "source": [
        "from data_preparation import prepare_data\n",
        "from fish_net import train_fishnet\n",
        "from test_model import test_model"
      ],
      "metadata": {
        "id": "vwTypZzfFNEc"
      },
      "execution_count": null,
      "outputs": []
    },
    {
      "cell_type": "code",
      "source": [
        "PREPARE_DATA = True\n",
        "TRAIN_MODEL = True\n",
        "TEST_MODEL = True\n",
        "\n",
        "IS_CONVERTED = True\n",
        "USE_AUGS = True\n",
        "CREATE_FRAMES = True\n",
        "DATA_TYPES = 0\n",
        "FRAMES_DIR = 'frames_test'\n",
        "DATA_DIR = 'raw_data'\n",
        "OUTPUT_PATH = 'models_test/test.pt'\n",
        "# number of augmentations can be defined as well\n",
        "\n",
        "NUM_EPOCHS = 25\n",
        "LEARNING_RATE = 1e-3\n",
        "N_TRAIN_LAYERS = 2"
      ],
      "metadata": {
        "id": "gG4vzzBOtdW-"
      },
      "execution_count": null,
      "outputs": []
    },
    {
      "cell_type": "code",
      "source": [
        "if PREPARE_DATA:\n",
        "  prepare_data(data_dir='raw_data', frames_dir=FRAMES_DIR, is_converted=IS_CONVERTED,\n",
        "                 data_types=DATA_TYPES, create_augs=USE_AUGS,\n",
        "                 to_create_frames=CREATE_FRAMES, to_create_bg_frames=CREATE_FRAMES and DATA_TYPES != 2)"
      ],
      "metadata": {
        "id": "OqVDoOCc4g7f"
      },
      "execution_count": null,
      "outputs": []
    },
    {
      "cell_type": "code",
      "source": [
        "if TRAIN_MODEL:\n",
        "  filename = 'data.csv' if DATA_TYPES == 1 else 'background.csv' \\\n",
        "        if DATA_TYPES == 2 else 'data_and_background.csv'\n",
        "  train_fishnet(data_filename=filename, data_dir=DATA_DIR, frames_dir=FRAMES_DIR,\n",
        "                  is_converted=IS_CONVERTED, data_types=DATA_TYPES, use_augs=USE_AUGS,\n",
        "                  num_epochs=NUM_EPOCHS, output_file=OUTPUT_PATH,\n",
        "                  learning_rate=LEARNING_RATE, trainable_layers=N_TRAIN_LAYERS)"
      ],
      "metadata": {
        "id": "nZ_X291nDqQz"
      },
      "execution_count": null,
      "outputs": []
    },
    {
      "cell_type": "code",
      "source": [
        "if TEST_MODEL:\n",
        "  video_paths = ['raw_data/israchz091121B/lGP044915-converted.mp4',\n",
        "                 'raw_data/isrrosh030221C/rGP023615-converted.mp4']\n",
        "  test_model(model_path=OUTPUT_PATH, video_paths=video_paths, frames_dir=FRAMES_DIR)"
      ],
      "metadata": {
        "id": "zaQUm8HD58NR"
      },
      "execution_count": null,
      "outputs": []
    }
  ]
}